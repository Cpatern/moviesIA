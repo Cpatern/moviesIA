{
 "cells": [
  {
   "cell_type": "markdown",
   "metadata": {},
   "source": [
    "# Chargement de mes films\n",
    "import lib + chargement du csv"
   ]
  },
  {
   "cell_type": "code",
   "execution_count": 39,
   "metadata": {},
   "outputs": [
    {
     "data": {
      "text/plain": [
       "title                                  object\n",
       "imdb_rating                           float64\n",
       "viewing_date                   datetime64[ns]\n",
       "personal_rating                       float64\n",
       "original_language                      object\n",
       "vote_count                              int32\n",
       "vote_average                          float64\n",
       "release_date                   datetime64[ns]\n",
       "original_title                         object\n",
       "runtime                                 int32\n",
       "production_country                     object\n",
       "production_countries_number             int32\n",
       "production_companies_number             int32\n",
       "genre                                  object\n",
       "genre_number                            int32\n",
       "director                               object\n",
       "director_number                         int32\n",
       "producer_number                         int32\n",
       "actor_number                            int32\n",
       "dtype: object"
      ]
     },
     "execution_count": 39,
     "metadata": {},
     "output_type": "execute_result"
    }
   ],
   "source": [
    "import csv\n",
    "import numpy as np\n",
    "import pandas as pd\n",
    "import matplotlib.pyplot as plt\n",
    "\n",
    "# Chargement du fichier dans un dataframe\n",
    "df = pd.read_csv(\"MyMoviesDetailsCastingRaw.csv\", sep=\";\", parse_dates=[\"viewing_date\", \"release_date\"], \n",
    "                 converters={\"imdb_rating\": lambda x: float(x.replace(',','.')),\n",
    "                            \"personal_rating\" : lambda x: float(x*2)}\n",
    "                )\n",
    "\n",
    "# On remplit les vides avec 0 & on numérise les différents types\n",
    "df = df.fillna(\"0\")\n",
    "df['vote_average'] = df['vote_average'].astype(float)\n",
    "df['vote_count'] = df['vote_count'].astype(int)\n",
    "df['runtime'] = df['runtime'].astype(int)\n",
    "df['actor_number'] = df['actor_number'].astype(int)\n",
    "df['production_countries_number'] = df['production_countries_number'].astype(int)\n",
    "df['production_companies_number'] = df['production_companies_number'].astype(int)\n",
    "df['director_number'] = df['director_number'].astype(int)\n",
    "df['producer_number'] = df['producer_number'].astype(int)\n",
    "df['genre_number'] = df['genre_number'].astype(int)\n",
    "\n",
    "# On vire les colonnes inutiles\n",
    "del df[\"tmdb_id\"]\n",
    "del df[\"imdb_id\"]\n",
    "del df[\"original_title\"]\n",
    "del df[\"children\"]\n",
    "del df[\"budget\"]\n",
    "del df[\"revenue\"]\n",
    "del df[\"production_company\"]\n",
    "del df[\"producer\"]\n",
    "\n",
    "# Verification des headers et types\n",
    "df.dtypes"
   ]
  },
  {
   "cell_type": "markdown",
   "metadata": {},
   "source": [
    "# Numérisation des features\n",
    "• Langage original, production country => garder les 10 premiers et binner le reste dans \"other\"\n",
    "• genre => créer des dummy column\n",
    "• TODO : Compléter les caractéristiques du réalisateur (gender, temps moyen pour faire un film, scoring fidélité, ..)"
   ]
  }
 ],
 "metadata": {
  "kernelspec": {
   "display_name": "Python 3",
   "language": "python",
   "name": "python3"
  },
  "language_info": {
   "codemirror_mode": {
    "name": "ipython",
    "version": 3
   },
   "file_extension": ".py",
   "mimetype": "text/x-python",
   "name": "python",
   "nbconvert_exporter": "python",
   "pygments_lexer": "ipython3",
   "version": "3.6.1"
  }
 },
 "nbformat": 4,
 "nbformat_minor": 2
}
